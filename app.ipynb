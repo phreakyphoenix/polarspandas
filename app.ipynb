{
 "cells": [
  {
   "cell_type": "code",
   "execution_count": 1,
   "metadata": {},
   "outputs": [],
   "source": [
    "import pandas as pd\n",
    "import polars as pl\n",
    "import numpy as np"
   ]
  },
  {
   "cell_type": "code",
   "execution_count": 2,
   "metadata": {},
   "outputs": [],
   "source": [
    "# Create a datafram with 1 million rows and 10 columns\n",
    "df = pd.DataFrame(np.random.rand(10000000, 10), columns=['col_'+str(i) for i in range(10)])\n",
    "pl_df = pl.DataFrame(df)"
   ]
  },
  {
   "cell_type": "code",
   "execution_count": 3,
   "metadata": {},
   "outputs": [],
   "source": [
    "# Selecting a column\n",
    "#Pandas\n",
    "%timeit -r7 -n 1000 df[['col_0','col_1']]\n",
    "\n",
    "#Polars\n",
    "%timeit -r7 -n 1000 pl_df[['col_0','col_1']]\n",
    "%timeit -r7 -n 1000 pl_df.select(pl.col(['col_0','col_1']))"
   ]
  },
  {
   "cell_type": "code",
   "execution_count": null,
   "metadata": {},
   "outputs": [],
   "source": [
    "#Filtering rows \n",
    "#Pandas\n",
    "%timeit -r7 -n 1000 df.query ('col_0>0.5')           \n",
    "#Polars        \n",
    "%timeit -r7 -n 1000 pl_df.filter(pl.col('col_0')>0.5)       "
   ]
  },
  {
   "cell_type": "code",
   "execution_count": null,
   "metadata": {},
   "outputs": [],
   "source": [
    "#Grouping by col_0 and calculating the mean of col_1\n",
    "%timeit -r7 -n 1000 df.groupby('col_0')['col_1'].mean()              \n",
    "%timeit -r7 -n 1000 df.groupby('col_0')['col_1'].agg('mean')         \n",
    "\n",
    "#polars\n",
    "%timeit -r7 -n 1000 pl_df.groupby('col_0').agg([pl.col('col_1').mean()]) #square indexing\n",
    "%timeit -r7 -n 1000 pl_df.groupby('col_0').agg(pl.mean('col_1'))      #shorter syntax\n"
   ]
  },
  {
   "cell_type": "code",
   "execution_count": null,
   "metadata": {},
   "outputs": [],
   "source": [
    "#Conversion between wide and long formats\n",
    "#Pandas\n",
    "%timeit -r7 -n 1000 pd.melt(df, id_vars=['col_0'], value_vars=['col_1', 'col_2', 'col_3', 'col_4', 'col_5', 'col_6', 'col_7', 'col_8', 'col_9'])\n",
    "#Polars\n",
    "%timeit -r7 -n 1000 pl_df.melt(id_vars=['col_0'], value_vars=['col_1', 'col_2', 'col_3', 'col_4', 'col_5', 'col_6', 'col_7', 'col_8', 'col_9'])"
   ]
  },
  {
   "cell_type": "code",
   "execution_count": null,
   "metadata": {},
   "outputs": [],
   "source": []
  }
 ],
 "metadata": {
  "kernelspec": {
   "display_name": "venv",
   "language": "python",
   "name": "python3"
  },
  "language_info": {
   "codemirror_mode": {
    "name": "ipython",
    "version": 3
   },
   "file_extension": ".py",
   "mimetype": "text/x-python",
   "name": "python",
   "nbconvert_exporter": "python",
   "pygments_lexer": "ipython3",
   "version": "3.11.2"
  },
  "orig_nbformat": 4
 },
 "nbformat": 4,
 "nbformat_minor": 2
}
